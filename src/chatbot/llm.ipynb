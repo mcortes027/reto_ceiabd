{
 "cells": [
  {
   "cell_type": "code",
   "execution_count": 58,
   "metadata": {},
   "outputs": [],
   "source": [
    "# Instalación del docker ollama\n",
    "# Con CPU\n",
    "# docker run -d -v ollama:/root/.ollama -p 11434:11434 --name ollama ollama/ollama\n",
    "# COn GPU NVIDIA\n",
    "# docker run -d --gpus=all -v ollama:/root/.ollama -p 11434:11434 --name ollama ollama/ollama\n",
    "\n",
    "# Descargar y ejecutar el modelo llama3\n",
    "# docker exec -it ollama ollama run llama3\n",
    "\n",
    "# Despues solo se ejecuta este comando y ya esta montado el ollama\n",
    "# docker start ollama"
   ]
  },
  {
   "cell_type": "markdown",
   "metadata": {},
   "source": [
    "| Model                | Parameters | Size  | Download Command         |\n",
    "|----------------------|------------|-------|--------------------------|\n",
    "| Llama 3              | 8B         | 4.7GB | ollama run llama3        |\n",
    "| Llama 3              | 70B        | 40GB  | ollama run llama3:70b    |\n",
    "| Phi-3                | 3.8B       | 2.3GB | ollama run phi3          |\n",
    "| Mistral              | 7B         | 4.1GB | ollama run mistral       |\n",
    "| Neural Chat          | 7B         | 4.1GB | ollama run neural-chat   |\n",
    "| Starling             | 7B         | 4.1GB | ollama run starling-lm   |\n",
    "| Code Llama           | 7B         | 3.8GB | ollama run codellama     |\n",
    "| Llama 2 Uncensored   | 7B         | 3.8GB | ollama run llama2-uncensored |\n",
    "| LLaVA                | 7B         | 4.5GB | ollama run llava         |\n",
    "| Gemma                | 2B         | 1.4GB | ollama run gemma:2b      |\n",
    "| Gemma                | 7B         | 4.8GB | ollama run gemma:7b      |\n",
    "| Solar                | 10.7B      | 6.1GB | ollama run solar         |"
   ]
  },
  {
   "cell_type": "code",
   "execution_count": 59,
   "metadata": {},
   "outputs": [],
   "source": [
    "#Instalación de las librerias necesarias de Ollama\n",
    "#!pip install ollama\n",
    "#Intalacion de las libreria de LangChain\n",
    "#!pip install langchain\n"
   ]
  },
  {
   "cell_type": "code",
   "execution_count": 60,
   "metadata": {},
   "outputs": [],
   "source": [
    "import ollama\n",
    "\n",
    "from langchain_community.llms import Ollama\n",
    "\n",
    "llm = Ollama(model=\"llama3\", temperature=0)"
   ]
  },
  {
   "cell_type": "code",
   "execution_count": 61,
   "metadata": {},
   "outputs": [],
   "source": [
    "respuesta = llm.invoke(\"Codigo de python que calcule el factorial de un numero\")"
   ]
  },
  {
   "cell_type": "code",
   "execution_count": 62,
   "metadata": {},
   "outputs": [
    {
     "name": "stdout",
     "output_type": "stream",
     "text": [
      "Aquí te dejo un ejemplo de código en Python que calcula el factorial de un número:\n",
      "```\n",
      "def factorial(n):\n",
      "    if n == 0 or n == 1:\n",
      "        return 1\n",
      "    else:\n",
      "        return n * factorial(n-1)\n",
      "\n",
      "num = int(input(\"Introduce un número: \"))\n",
      "print(f\"El factorial de {num} es {factorial(num)}\")\n",
      "```\n",
      "Este código define una función `factorial` que toma un parámetro `n` y devuelve el factorial de ese número. La función se define de manera recursiva, lo que significa que llama a sí misma con un valor menor hasta que llega al caso base (en este caso, cuando `n` es 0 o 1).\n",
      "\n",
      "La función se utiliza para calcular el factorial de un número introducido por el usuario.\n",
      "\n",
      "Puedes ejecutar este código en una ventana de comandos o en un entorno de desarrollo integrado como PyCharm y obtener el resultado del factorial de un número que introduces.\n",
      "\n",
      "Por ejemplo, si introduces el número 5, el programa imprimirá:\n",
      "```\n",
      "El factorial de 5 es 120\n",
      "```\n",
      "Espero que esto te ayude. ¡Si tienes alguna pregunta o necesitas ayuda adicional, no dudes en preguntar!\n"
     ]
    }
   ],
   "source": [
    "print(respuesta)"
   ]
  },
  {
   "cell_type": "code",
   "execution_count": 63,
   "metadata": {},
   "outputs": [],
   "source": [
    "#Intalamos la libreria de cargar PDF\n",
    "#!pip install pypdf"
   ]
  },
  {
   "cell_type": "code",
   "execution_count": 1,
   "metadata": {},
   "outputs": [],
   "source": [
    "from langchain.text_splitter import CharacterTextSplitter\n",
    "from langchain.document_loaders import PyPDFLoader\n",
    "from langchain_community.vectorstores import Chroma\n",
    "from langchain_community.embeddings import OllamaEmbeddings\n",
    "from langchain_core.output_parsers import StrOutputParser\n",
    "import ollama"
   ]
  },
  {
   "cell_type": "code",
   "execution_count": 2,
   "metadata": {},
   "outputs": [],
   "source": [
    "loader = PyPDFLoader('boc_6.pdf')\n",
    "paginas = loader.load()"
   ]
  },
  {
   "cell_type": "code",
   "execution_count": 14,
   "metadata": {},
   "outputs": [
    {
     "data": {
      "text/plain": [
       "[Document(page_content='1. DISPOSICIONES GENERALES\\nCONSEJO DE GOBIERNO\\nDecreto 134/1999, de 25 de noviembre, por el que se\\nautoriza la creación de la sociedad denominada «Parque\\nEmpresarial de Cantabria, S. L.» y la participación del\\nGobierno de Cantabria en el capital social de la misma.\\nEl Gobierno de Cantabria considera de interés primordial\\nel asegurar suelo industrial en cantidad y calidad suficientes,a precio competitivo, con el fin de favorecer la implantaciónde industrias y todo tipo de actividades económicas que revi-talicen el tejido productivo de la Comunidad Autónoma.\\nEn este sentido y en el ámbito de las competencias\\nque tiene atribuidas en materia de gestión de suelo indus-trial, la Consejería de Industria, Turismo y Comunica-ciones ha venido manteniendo contactos con diversasInstituciones a fin de coordinar los esfuerzos conducentesal aprovechamiento de las sinergias en dicha materia.Deesta manera, constatándose el mutuo interés existenteentre el Gobierno de Cantabria, la Sociedad Estatal deParticipaciones Industriales y el Ayuntamiento de ElAstillero para la promoción de suelo industrial en la zonadenominada Morero, interés plasmado en el conveniosuscrito entre estas entidades el 16 de marzo del presenteaño, han considerado oportuno proceder a la constituciónde la sociedad «Parque Empresarial de Cantabria, S.L.».Lo anterior, se reitera, en relación con los terrenos antesseñalados, radicados en el municipio de El Astillero, quese aportarán por la Sociedad Estatal de ParticipacionesIndustriales (SEPI) y con respecto a los que puedan seraportados por esta sociedad en el futuro.\\nEn virtud de ello y de conformidad con lo dispuesto en\\nla Ley 7/1986, de 22 de diciembre, de Patrimonio de laDiputación Regional de Cantabria y su Reglamento, apro-bado por Decreto 72/1987, de 26 de octubre, visto elinforme favorable emitido por la Dirección General delServicio Jurídico y el informe evacuado por la IntervenciónGeneral a propuesta conjunta de los consejeros deIndustria, Turismo, Trabajo y Comunicaciones y deEconomía y Hacienda,\\nDISPONGO\\nArtículo 1.Objeto\\nSe autoriza la creación de la sociedad denominada\\n«Parque Empresarial de Cantabria, S.L.» y la participacióndel Gobierno de Cantabria en el capital social de la misma.\\nArtículo 2.Capital socialEl capital social se fija en treinta y cinco millones\\n(35.000.000) de pesetas, siendo la aportación en metálicodel Gobierno de Cantabria a dicho capital de dieciséismillones ochocientas mil (16.800.000) pesetas.Las cita-das cuantías deberán ser objeto de su correspondienteconversión en euros.\\nEl capital se desembolsará en su totalidad con la cons-\\ntitución de la sociedad.\\nArtículo 3.Constitución e inscripciónLa Consejería de Industria, Turismo, Trabajo y\\nComunicaciones llevará a cabo las actuaciones precisaspara la constitución de la sociedad, facultándose al titular dedicho departamento para la realización, en representacióndel Gobierno de Cantabria, de cuantas actuaciones seannecesarias en orden al otorgamiento de la escritura deconstitución de dicha sociedad y a su inscripción registral.\\nDISPOSICIÓN FINAL\\nEl presente Decreto entrará en vigor el mismo día de\\nsu publicación en el Boletín Oficial de Cantabria.\\nEL PRESIDENTE DEL CONSEJO DE GOBIERNO,\\nJosé Joaquín Martínez Sieso\\nEL CONSEJERO DE PRESIDENCIA\\nEN FUNCIONES (Decreto 127/99, de 15 de noviembre),\\nJaime del Barrio Seoane\\n99/388716CONSEJERÍA DE GANADERÍA,AGRICULTURA\\nY PESCA\\nOrden de 23 de noviembre de 1999, por la que se modifica\\nparcialmente la Orden de 12 de agosto de 1999, por la que\\nse aprueba el reglamento de la indicación geográfica pro-\\ntegida «Carne de Cantabria» y su consejo regulador.\\nEn atención al contenido del Informe de la Secretaría\\nGeneral Técnica del Ministerio de Agricultura, Pesca yAlimentación, respecto de la Orden de la Consejería deGanadería, Agricultura y Pesca de 12 de agosto de 1999,por la que se aprueba el Reglamento de la IndicaciónGeográfica Protegida «Carne de Cantabria» y su ConsejoRegulador, es preciso modificar parcialmente el párrafo2.º del artículo 4.\\nEn su virtud, cumplidos los trámites y evacuados los\\ninformes procedentes,\\nDISPONGO\\nArtículo Único.-\\nSe modifica el 2.º párrafo del artículo 4 de la Orden de\\nla Consejería de Ganadería, Agricultura y Pesca, de 12 deagosto de 1999, por la que se aprueba el Reglamento dela Indicación Geográfica Protegida «Carne de Cantabria»y su Consejo Regulador, que quedará redactado de lasiguiente forma:\\n“Sólo la carne procedente de ganado vacuno de las\\nrazas agrupadas en el tronco Cántabro, bóvido castañoconvexo (Tudanca y Asturiana), Pardo Alpina integradapor absorción, y la Limusina adaptada al medio, así comosus cruces, es apta para suministrar carne protegida bajola Indicación Geográfica Protegida «Carne deCantabria».”\\nDISPOSICIÓN FINAL ÚNICA\\nLa presente Orden entrará en vigor el día siguiente de\\nsu publicación en el BOC.\\nSantander, 23 de noviembre de 1999.–El consejero de\\nGanadería, Agricultura y Pesca, José Álvarez Gancedo.\\n99/386588\\nAYUNTAMIENTO DE CAMARGO\\nInformación pública de la aprobación definitiva de la modi-\\nficación de diversas Ordenanzas Fiscales.\\nEl Ayuntamiento Pleno, en la sesión celebrada el día 18\\nde noviembre de 1999, aprobó definitivamente la modifi-cación de los siguientes tributos. En cumplimiento delartículo 17 de la Ley 39/1988, reguladora de lasHaciendas Locales, se procede a la publicación íntegra delos artículos modificados.\\n–Ordenanza fiscal del Impuesto sobre Construcciones,\\nInstalaciones y Obras.\\nArtículo 4.Base imponible, cuota y devengo.\\nLa cuota tributaria resultará de aplicar a la base impo-\\nnible los siguientes tipos de gravamen:\\n–Hasta 10.000.000 de pesetas de base imponible, el 3%.–Superiores a 10.000.000 de pesetas de base imponi-\\nble, el 3,2%.\\n–Viviendas en régimen especial y viviendas en régimen\\nde alquiler, el 2%.\\n–Ordenanza Fiscal de la Tasa por Licencias\\nUrbanísticas.\\nArtículo 6.Cuota tributaria.\\nLa cuota tributaria resultará de aplicar a la base impo-\\nnible los siguientes tipos de gravamen:\\n–Hasta 10.000.000 de pesetas de base imponible, el\\n1,2%.\\n–Superiores a 10.000.000 de pesetas de base imponi-\\nble, el 1,4%.\\nCamargo, 19 de noviembre de 1999.–El alcalde-presi-\\ndente, Eduardo López Lejardi.\\n99/381770BOC - Número 237 Miércoles, 1 de diciembre de 1999 Página 8275', metadata={'source': 'boc_6.pdf', 'page': 0})]"
      ]
     },
     "execution_count": 14,
     "metadata": {},
     "output_type": "execute_result"
    }
   ],
   "source": [
    "paginas"
   ]
  },
  {
   "cell_type": "code",
   "execution_count": 4,
   "metadata": {},
   "outputs": [
    {
     "data": {
      "text/plain": [
       "1"
      ]
     },
     "execution_count": 4,
     "metadata": {},
     "output_type": "execute_result"
    }
   ],
   "source": [
    "len(paginas)"
   ]
  },
  {
   "cell_type": "code",
   "execution_count": 5,
   "metadata": {},
   "outputs": [
    {
     "name": "stdout",
     "output_type": "stream",
     "text": [
      "1. DISPOSICIONES GENERALES\n",
      "CONSEJO DE GOBIERNO\n",
      "Decreto 134/1999, de 25 de noviembre, por el que se\n",
      "autoriza la creación de la sociedad denominada «Parque\n",
      "Empresarial de Cantabria, S. L.» y la participación del\n",
      "Gobierno de Cantabria en el capital social de la misma.\n",
      "El Gobierno de Cantabria considera de interés primordial\n",
      "el asegurar suelo industrial en cantidad y calidad suficientes,a precio competitivo, con el fin de favorecer la implantaciónde industrias y todo tipo de actividades económicas que revi-talicen el tejido productivo de la Comunidad Autónoma.\n",
      "En este sentido y en el ámbito de las competencias\n",
      "que tiene atribuidas en materia de gestión de suelo indus-trial, la Consejería de Industria, Turismo y Comunica-ciones ha venido manteniendo contactos con diversasInstituciones a fin de coordinar los esfuerzos conducentesal aprovechamiento de las sinergias en dicha materia.Deesta manera, constatándose el mutuo interés existenteentre el Gobierno de Cantabria, la Sociedad Estatal deParticipaciones Industriales y el Ayuntamiento de ElAstillero para la promoción de suelo industrial en la zonadenominada Morero, interés plasmado en el conveniosuscrito entre estas entidades el 16 de marzo del presenteaño, han considerado oportuno proceder a la constituciónde la sociedad «Parque Empresarial de Cantabria, S.L.».Lo anterior, se reitera, en relación con los terrenos antesseñalados, radicados en el municipio de El Astillero, quese aportarán por la Sociedad Estatal de ParticipacionesIndustriales (SEPI) y con respecto a los que puedan seraportados por esta sociedad en el futuro.\n",
      "En virtud de ello y de conformidad con lo dispuesto en\n",
      "la Ley 7/1986, de 22 de diciembre, de Patrimonio de laDiputación Regional de Cantabria y su Reglamento, apro-bado por Decreto 72/1987, de 26 de octubre, visto elinforme favorable emitido por la Dirección General delServicio Jurídico y el informe evacuado por la IntervenciónGeneral a propuesta conjunta de los consejeros deIndustria, Turismo, Trabajo y Comunicaciones y deEconomía y Hacienda,\n",
      "DISPONGO\n",
      "Artículo 1.Objeto\n",
      "Se autoriza la creación de la sociedad denominada\n",
      "«Parque Empresarial de Cantabria, S.L.» y la participacióndel Gobierno de Cantabria en el capital social de la misma.\n",
      "Artículo 2.Capital socialEl capital social se fija en treinta y cinco millones\n",
      "(35.000.000) de pesetas, siendo la aportación en metálicodel Gobierno de Cantabria a dicho capital de dieciséismillones ochocientas mil (16.800.000) pesetas.Las cita-das cuantías deberán ser objeto de su correspondienteconversión en euros.\n",
      "El capital se desembolsará en su totalidad con la cons-\n",
      "titución de la sociedad.\n",
      "Artículo 3.Constitución e inscripciónLa Consejería de Industria, Turismo, Trabajo y\n",
      "Comunicaciones llevará a cabo las actuaciones precisaspara la constitución de la sociedad, facultándose al titular dedicho departamento para la realización, en representacióndel Gobierno de Cantabria, de cuantas actuaciones seannecesarias en orden al otorgamiento de la escritura deconstitución de dicha sociedad y a su inscripción registral.\n",
      "DISPOSICIÓN FINAL\n",
      "El presente Decreto entrará en vigor el mismo día de\n",
      "su publicación en el Boletín Oficial de Cantabria.\n",
      "EL PRESIDENTE DEL CONSEJO DE GOBIERNO,\n",
      "José Joaquín Martínez Sieso\n",
      "EL CONSEJERO DE PRESIDENCIA\n",
      "EN FUNCIONES (Decreto 127/99, de 15 de noviembre),\n",
      "Jaime del Barrio Seoane\n",
      "99/388716CONSEJERÍA DE GANADERÍA,AGRICULTURA\n",
      "Y PESCA\n",
      "Orden de 23 de noviembre de 1999, por la que se modifica\n",
      "parcialmente la Orden de 12 de agosto de 1999, por la que\n",
      "se aprueba el reglamento de la indicación geográfica pro-\n",
      "tegida «Carne de Cantabria» y su consejo regulador.\n",
      "En atención al contenido del Informe de la Secretaría\n",
      "General Técnica del Ministerio de Agricultura, Pesca yAlimentación, respecto de la Orden de la Consejería deGanadería, Agricultura y Pesca de 12 de agosto de 1999,por la que se aprueba el Reglamento de la IndicaciónGeográfica Protegida «Carne de Cantabria» y su ConsejoRegulador, es preciso modificar parcialmente el párrafo2.º del artículo 4.\n",
      "En su virtud, cumplidos los trámites y evacuados los\n",
      "informes procedentes,\n",
      "DISPONGO\n",
      "Artículo Único.-\n",
      "Se modifica el 2.º párrafo del artículo 4 de la Orden de\n",
      "la Consejería de Ganadería, Agricultura y Pesca, de 12 deagosto de 1999, por la que se aprueba el Reglamento dela Indicación Geográfica Protegida «Carne de Cantabria»y su Consejo Regulador, que quedará redactado de lasiguiente forma:\n",
      "“Sólo la carne procedente de ganado vacuno de las\n",
      "razas agrupadas en el tronco Cántabro, bóvido castañoconvexo (Tudanca y Asturiana), Pardo Alpina integradapor absorción, y la Limusina adaptada al medio, así comosus cruces, es apta para suministrar carne protegida bajola Indicación Geográfica Protegida «Carne deCantabria».”\n",
      "DISPOSICIÓN FINAL ÚNICA\n",
      "La presente Orden entrará en vigor el día siguiente de\n",
      "su publicación en el BOC.\n",
      "Santander, 23 de noviembre de 1999.–El consejero de\n",
      "Ganadería, Agricultura y Pesca, José Álvarez Gancedo.\n",
      "99/386588\n",
      "AYUNTAMIENTO DE CAMARGO\n",
      "Información pública de la aprobación definitiva de la modi-\n",
      "ficación de diversas Ordenanzas Fiscales.\n",
      "El Ayuntamiento Pleno, en la sesión celebrada el día 18\n",
      "de noviembre de 1999, aprobó definitivamente la modifi-cación de los siguientes tributos. En cumplimiento delartículo 17 de la Ley 39/1988, reguladora de lasHaciendas Locales, se procede a la publicación íntegra delos artículos modificados.\n",
      "–Ordenanza fiscal del Impuesto sobre Construcciones,\n",
      "Instalaciones y Obras.\n",
      "Artículo 4.Base imponible, cuota y devengo.\n",
      "La cuota tributaria resultará de aplicar a la base impo-\n",
      "nible los siguientes tipos de gravamen:\n",
      "–Hasta 10.000.000 de pesetas de base imponible, el 3%.–Superiores a 10.000.000 de pesetas de base imponi-\n",
      "ble, el 3,2%.\n",
      "–Viviendas en régimen especial y viviendas en régimen\n",
      "de alquiler, el 2%.\n",
      "–Ordenanza Fiscal de la Tasa por Licencias\n",
      "Urbanísticas.\n",
      "Artículo 6.Cuota tributaria.\n",
      "La cuota tributaria resultará de aplicar a la base impo-\n",
      "nible los siguientes tipos de gravamen:\n",
      "–Hasta 10.000.000 de pesetas de base imponible, el\n",
      "1,2%.\n",
      "–Superiores a 10.000.000 de pesetas de base imponi-\n",
      "ble, el 1,4%.\n",
      "Camargo, 19 de noviembre de 1999.–El alcalde-presi-\n",
      "dente, Eduardo López Lejardi.\n",
      "99/381770BOC - Número 237 Miércoles, 1 de diciembre de 1999 Página 8275\n"
     ]
    }
   ],
   "source": [
    "print(paginas[0].page_content)"
   ]
  },
  {
   "cell_type": "code",
   "execution_count": 11,
   "metadata": {},
   "outputs": [],
   "source": [
    "text_splitter = CharacterTextSplitter(\n",
    "    separator='\\n',\n",
    "    chunk_size=1024,\n",
    "    chunk_overlap=0,\n",
    "    length_function=len\n",
    ")\n"
   ]
  },
  {
   "cell_type": "code",
   "execution_count": 12,
   "metadata": {},
   "outputs": [],
   "source": [
    "docs = text_splitter.split_documents(paginas)"
   ]
  },
  {
   "cell_type": "code",
   "execution_count": 15,
   "metadata": {},
   "outputs": [
    {
     "data": {
      "text/plain": [
       "[Document(page_content='1. DISPOSICIONES GENERALES\\nCONSEJO DE GOBIERNO\\nDecreto 134/1999, de 25 de noviembre, por el que se\\nautoriza la creación de la sociedad denominada «Parque\\nEmpresarial de Cantabria, S. L.» y la participación del\\nGobierno de Cantabria en el capital social de la misma.\\nEl Gobierno de Cantabria considera de interés primordial\\nel asegurar suelo industrial en cantidad y calidad suficientes,a precio competitivo, con el fin de favorecer la implantaciónde industrias y todo tipo de actividades económicas que revi-talicen el tejido productivo de la Comunidad Autónoma.\\nEn este sentido y en el ámbito de las competencias', metadata={'source': 'boc_6.pdf', 'page': 0}),\n",
       " Document(page_content='que tiene atribuidas en materia de gestión de suelo indus-trial, la Consejería de Industria, Turismo y Comunica-ciones ha venido manteniendo contactos con diversasInstituciones a fin de coordinar los esfuerzos conducentesal aprovechamiento de las sinergias en dicha materia.Deesta manera, constatándose el mutuo interés existenteentre el Gobierno de Cantabria, la Sociedad Estatal deParticipaciones Industriales y el Ayuntamiento de ElAstillero para la promoción de suelo industrial en la zonadenominada Morero, interés plasmado en el conveniosuscrito entre estas entidades el 16 de marzo del presenteaño, han considerado oportuno proceder a la constituciónde la sociedad «Parque Empresarial de Cantabria, S.L.».Lo anterior, se reitera, en relación con los terrenos antesseñalados, radicados en el municipio de El Astillero, quese aportarán por la Sociedad Estatal de ParticipacionesIndustriales (SEPI) y con respecto a los que puedan seraportados por esta sociedad en el futuro.', metadata={'source': 'boc_6.pdf', 'page': 0}),\n",
       " Document(page_content='En virtud de ello y de conformidad con lo dispuesto en\\nla Ley 7/1986, de 22 de diciembre, de Patrimonio de laDiputación Regional de Cantabria y su Reglamento, apro-bado por Decreto 72/1987, de 26 de octubre, visto elinforme favorable emitido por la Dirección General delServicio Jurídico y el informe evacuado por la IntervenciónGeneral a propuesta conjunta de los consejeros deIndustria, Turismo, Trabajo y Comunicaciones y deEconomía y Hacienda,\\nDISPONGO\\nArtículo 1.Objeto\\nSe autoriza la creación de la sociedad denominada\\n«Parque Empresarial de Cantabria, S.L.» y la participacióndel Gobierno de Cantabria en el capital social de la misma.\\nArtículo 2.Capital socialEl capital social se fija en treinta y cinco millones\\n(35.000.000) de pesetas, siendo la aportación en metálicodel Gobierno de Cantabria a dicho capital de dieciséismillones ochocientas mil (16.800.000) pesetas.Las cita-das cuantías deberán ser objeto de su correspondienteconversión en euros.\\nEl capital se desembolsará en su totalidad con la cons-', metadata={'source': 'boc_6.pdf', 'page': 0}),\n",
       " Document(page_content='titución de la sociedad.\\nArtículo 3.Constitución e inscripciónLa Consejería de Industria, Turismo, Trabajo y\\nComunicaciones llevará a cabo las actuaciones precisaspara la constitución de la sociedad, facultándose al titular dedicho departamento para la realización, en representacióndel Gobierno de Cantabria, de cuantas actuaciones seannecesarias en orden al otorgamiento de la escritura deconstitución de dicha sociedad y a su inscripción registral.\\nDISPOSICIÓN FINAL\\nEl presente Decreto entrará en vigor el mismo día de\\nsu publicación en el Boletín Oficial de Cantabria.\\nEL PRESIDENTE DEL CONSEJO DE GOBIERNO,\\nJosé Joaquín Martínez Sieso\\nEL CONSEJERO DE PRESIDENCIA\\nEN FUNCIONES (Decreto 127/99, de 15 de noviembre),\\nJaime del Barrio Seoane\\n99/388716CONSEJERÍA DE GANADERÍA,AGRICULTURA\\nY PESCA\\nOrden de 23 de noviembre de 1999, por la que se modifica\\nparcialmente la Orden de 12 de agosto de 1999, por la que\\nse aprueba el reglamento de la indicación geográfica pro-\\ntegida «Carne de Cantabria» y su consejo regulador.', metadata={'source': 'boc_6.pdf', 'page': 0}),\n",
       " Document(page_content='En atención al contenido del Informe de la Secretaría\\nGeneral Técnica del Ministerio de Agricultura, Pesca yAlimentación, respecto de la Orden de la Consejería deGanadería, Agricultura y Pesca de 12 de agosto de 1999,por la que se aprueba el Reglamento de la IndicaciónGeográfica Protegida «Carne de Cantabria» y su ConsejoRegulador, es preciso modificar parcialmente el párrafo2.º del artículo 4.\\nEn su virtud, cumplidos los trámites y evacuados los\\ninformes procedentes,\\nDISPONGO\\nArtículo Único.-\\nSe modifica el 2.º párrafo del artículo 4 de la Orden de\\nla Consejería de Ganadería, Agricultura y Pesca, de 12 deagosto de 1999, por la que se aprueba el Reglamento dela Indicación Geográfica Protegida «Carne de Cantabria»y su Consejo Regulador, que quedará redactado de lasiguiente forma:\\n“Sólo la carne procedente de ganado vacuno de las', metadata={'source': 'boc_6.pdf', 'page': 0}),\n",
       " Document(page_content='razas agrupadas en el tronco Cántabro, bóvido castañoconvexo (Tudanca y Asturiana), Pardo Alpina integradapor absorción, y la Limusina adaptada al medio, así comosus cruces, es apta para suministrar carne protegida bajola Indicación Geográfica Protegida «Carne deCantabria».”\\nDISPOSICIÓN FINAL ÚNICA\\nLa presente Orden entrará en vigor el día siguiente de\\nsu publicación en el BOC.\\nSantander, 23 de noviembre de 1999.–El consejero de\\nGanadería, Agricultura y Pesca, José Álvarez Gancedo.\\n99/386588\\nAYUNTAMIENTO DE CAMARGO\\nInformación pública de la aprobación definitiva de la modi-\\nficación de diversas Ordenanzas Fiscales.\\nEl Ayuntamiento Pleno, en la sesión celebrada el día 18\\nde noviembre de 1999, aprobó definitivamente la modifi-cación de los siguientes tributos. En cumplimiento delartículo 17 de la Ley 39/1988, reguladora de lasHaciendas Locales, se procede a la publicación íntegra delos artículos modificados.\\n–Ordenanza fiscal del Impuesto sobre Construcciones,\\nInstalaciones y Obras.', metadata={'source': 'boc_6.pdf', 'page': 0}),\n",
       " Document(page_content='Artículo 4.Base imponible, cuota y devengo.\\nLa cuota tributaria resultará de aplicar a la base impo-\\nnible los siguientes tipos de gravamen:\\n–Hasta 10.000.000 de pesetas de base imponible, el 3%.–Superiores a 10.000.000 de pesetas de base imponi-\\nble, el 3,2%.\\n–Viviendas en régimen especial y viviendas en régimen\\nde alquiler, el 2%.\\n–Ordenanza Fiscal de la Tasa por Licencias\\nUrbanísticas.\\nArtículo 6.Cuota tributaria.\\nLa cuota tributaria resultará de aplicar a la base impo-\\nnible los siguientes tipos de gravamen:\\n–Hasta 10.000.000 de pesetas de base imponible, el\\n1,2%.\\n–Superiores a 10.000.000 de pesetas de base imponi-\\nble, el 1,4%.\\nCamargo, 19 de noviembre de 1999.–El alcalde-presi-\\ndente, Eduardo López Lejardi.\\n99/381770BOC - Número 237 Miércoles, 1 de diciembre de 1999 Página 8275', metadata={'source': 'boc_6.pdf', 'page': 0})]"
      ]
     },
     "execution_count": 15,
     "metadata": {},
     "output_type": "execute_result"
    }
   ],
   "source": [
    "docs"
   ]
  },
  {
   "cell_type": "code",
   "execution_count": 13,
   "metadata": {},
   "outputs": [
    {
     "data": {
      "text/plain": [
       "(7, 1)"
      ]
     },
     "execution_count": 13,
     "metadata": {},
     "output_type": "execute_result"
    }
   ],
   "source": [
    "len(docs), len(paginas)"
   ]
  },
  {
   "cell_type": "code",
   "execution_count": 71,
   "metadata": {},
   "outputs": [],
   "source": [
    "#Intalamos la libreria de chromadb\n",
    "# Se tiene que instalar https://visualstudio.microsoft.com/es/visual-cpp-build-tools/\n",
    "#!pip install chromadb"
   ]
  },
  {
   "cell_type": "code",
   "execution_count": 16,
   "metadata": {},
   "outputs": [],
   "source": [
    "embeddings = OllamaEmbeddings(model=\"llama3\")\n"
   ]
  },
  {
   "cell_type": "code",
   "execution_count": 17,
   "metadata": {},
   "outputs": [],
   "source": [
    "vectorstore = Chroma.from_documents(documents=docs, embedding=embeddings)"
   ]
  },
  {
   "cell_type": "code",
   "execution_count": 18,
   "metadata": {},
   "outputs": [
    {
     "data": {
      "text/plain": [
       "<langchain_community.vectorstores.chroma.Chroma at 0x1c658a9f920>"
      ]
     },
     "execution_count": 18,
     "metadata": {},
     "output_type": "execute_result"
    }
   ],
   "source": [
    "vectorstore"
   ]
  },
  {
   "cell_type": "code",
   "execution_count": 74,
   "metadata": {},
   "outputs": [],
   "source": [
    "def ollama_llm(question, context):\n",
    "    \"\"\"\n",
    "    Realiza una consulta a un modelo de lenguaje de aprendizaje automático (LLM) llamado Ollama.\n",
    "    \n",
    "    Parameters:\n",
    "        question (str): La pregunta que se desea realizar al modelo.\n",
    "        context (str): El contexto en el que se basa la pregunta.\n",
    "        \n",
    "    Returns:\n",
    "        str: La respuesta generada por el modelo de lenguaje.\n",
    "    \"\"\"\n",
    "    formatted_prompt = f\"Pregunta: {question}\\n\\nContexto (responde solo sobre el contenido del texto entregado): {context}\"\n",
    "    response = ollama.chat(model=\"llama3\", messages=[{'role': 'user', 'content': formatted_prompt}],\n",
    "                           options={'temperature': 0})\n",
    "    \n",
    "    return response['message']['content']\n",
    "\n",
    "    "
   ]
  },
  {
   "cell_type": "code",
   "execution_count": 75,
   "metadata": {},
   "outputs": [],
   "source": [
    "retriever = vectorstore.as_retriever()\n",
    "\n",
    "def combine_docs(docs):\n",
    "    return \"\\n\".join([doc.page_content for doc in docs])"
   ]
  },
  {
   "cell_type": "code",
   "execution_count": 76,
   "metadata": {},
   "outputs": [],
   "source": [
    "def rag_chains(question, docs):\n",
    "    retrieved_docs = retriever.invoke(question)\n",
    "    formatted_context = combine_docs(retrieved_docs)\n",
    "    return ollama_llm(question, formatted_context)\n"
   ]
  },
  {
   "cell_type": "code",
   "execution_count": 81,
   "metadata": {},
   "outputs": [
    {
     "data": {
      "text/plain": [
       "'El artículo 17 del texto consolidado no existe, ya que el texto entregado es un boletín oficial del Estado que contiene varias leyes y disposiciones, pero no hay un artículo 17 específico. Sin embargo, se puede resumir lo siguiente:\\n\\n* El artículo 3 describe las condiciones en las que el Presidente del Gobierno no puede acordar la disolución del Parlamento: durante el primer período de sesiones de la legislatura cuando reste menos de un año para su terminación, cuando se encuentre en tramitación una moción de censura, o antes de que transcurra un año desde la última disolución por este procedimiento.\\n* El artículo final (no numerado) describe el cambio de denominación de la provincia de Santander por provincia de Cantabria y establece que el Gobierno dictará las disposiciones oportunas para dar cumplimiento a las consecuencias derivadas de esta disposición en un plazo de un año.'"
      ]
     },
     "execution_count": 81,
     "metadata": {},
     "output_type": "execute_result"
    }
   ],
   "source": [
    "result = rag_chains(\"resumen del Artículo 17\", docs)\n",
    "result"
   ]
  },
  {
   "cell_type": "code",
   "execution_count": null,
   "metadata": {},
   "outputs": [],
   "source": []
  }
 ],
 "metadata": {
  "kernelspec": {
   "display_name": "venv",
   "language": "python",
   "name": "python3"
  },
  "language_info": {
   "codemirror_mode": {
    "name": "ipython",
    "version": 3
   },
   "file_extension": ".py",
   "mimetype": "text/x-python",
   "name": "python",
   "nbconvert_exporter": "python",
   "pygments_lexer": "ipython3",
   "version": "3.12.3"
  }
 },
 "nbformat": 4,
 "nbformat_minor": 2
}
