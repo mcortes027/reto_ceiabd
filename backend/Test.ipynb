{
 "cells": [
  {
   "cell_type": "code",
   "execution_count": null,
   "metadata": {},
   "outputs": [],
   "source": [
    "#Prueba de login\n",
    "\n",
    "import login\n",
    "import usuario\n",
    "\n",
    "if login.check_login('juanperez','password123'):\n",
    "    print('Login correcto')\n",
    "else:\n",
    "    print('login incorrecto')"
   ]
  },
  {
   "cell_type": "code",
   "execution_count": null,
   "metadata": {},
   "outputs": [],
   "source": [
    "#Prueba de registro\n",
    "\n",
    "import login\n",
    "import usuario\n",
    "\n",
    "login.registrar_usuario(\n",
    "    username=\"juanperez\",\n",
    "    password=\"password123\",\n",
    "    email=\"juanperez@example.com\",\n",
    "    direccion=\"Calle Falsa 123\",\n",
    "    localidad=\"Springfield\",\n",
    "    telefono=\"555-1234\",\n",
    "    cp=\"12345\",\n",
    "    uso=\"personal\"\n",
    ")\n",
    "\n"
   ]
  },
  {
   "cell_type": "code",
   "execution_count": 1,
   "metadata": {},
   "outputs": [
    {
     "ename": "ModuleNotFoundError",
     "evalue": "No module named 'mysql'",
     "output_type": "error",
     "traceback": [
      "\u001b[0;31m---------------------------------------------------------------------------\u001b[0m",
      "\u001b[0;31mModuleNotFoundError\u001b[0m                       Traceback (most recent call last)",
      "\u001b[1;32m/SSD1/home/ciabd16/Descargas/ChatBOC/reto_ceiabd-app_backend/backend/Test.ipynb Cell 3\u001b[0m line \u001b[0;36m3\n\u001b[1;32m      <a href='vscode-notebook-cell:/SSD1/home/ciabd16/Descargas/ChatBOC/reto_ceiabd-app_backend/backend/Test.ipynb#W2sZmlsZQ%3D%3D?line=0'>1</a>\u001b[0m \u001b[39m#prueba de Set numero\u001b[39;00m\n\u001b[0;32m----> <a href='vscode-notebook-cell:/SSD1/home/ciabd16/Descargas/ChatBOC/reto_ceiabd-app_backend/backend/Test.ipynb#W2sZmlsZQ%3D%3D?line=2'>3</a>\u001b[0m \u001b[39mimport\u001b[39;00m \u001b[39mNumBOC\u001b[39;00m\n\u001b[1;32m      <a href='vscode-notebook-cell:/SSD1/home/ciabd16/Descargas/ChatBOC/reto_ceiabd-app_backend/backend/Test.ipynb#W2sZmlsZQ%3D%3D?line=4'>5</a>\u001b[0m \u001b[39mif\u001b[39;00m NumBOC\u001b[39m.\u001b[39minsert_numero(\u001b[39m1234\u001b[39m):\n\u001b[1;32m      <a href='vscode-notebook-cell:/SSD1/home/ciabd16/Descargas/ChatBOC/reto_ceiabd-app_backend/backend/Test.ipynb#W2sZmlsZQ%3D%3D?line=5'>6</a>\u001b[0m     \u001b[39mprint\u001b[39m(\u001b[39m\"\u001b[39m\u001b[39mEl numero ha sido insertado correctamente\u001b[39m\u001b[39m\"\u001b[39m)\n",
      "File \u001b[0;32m~/Descargas/ChatBOC/reto_ceiabd-app_backend/backend/NumBOC.py:1\u001b[0m\n\u001b[0;32m----> 1\u001b[0m \u001b[39mimport\u001b[39;00m \u001b[39mmysql\u001b[39;00m\u001b[39m.\u001b[39;00m\u001b[39mconnector\u001b[39;00m\n\u001b[1;32m      3\u001b[0m \u001b[39mimport\u001b[39;00m \u001b[39mre\u001b[39;00m\n\u001b[1;32m      5\u001b[0m \u001b[39mdef\u001b[39;00m \u001b[39minsert_numero\u001b[39m(numeroBOC):\n",
      "\u001b[0;31mModuleNotFoundError\u001b[0m: No module named 'mysql'"
     ]
    }
   ],
   "source": [
    "#prueba de Set numero\n",
    "\n",
    "import NumBOC\n",
    "\n",
    "if NumBOC.insert_numero(1234):\n",
    "    print(\"El numero ha sido insertado correctamente\")\n",
    "else:\n",
    "    print(\"Error al insertar el numero\")"
   ]
  },
  {
   "cell_type": "code",
   "execution_count": null,
   "metadata": {},
   "outputs": [],
   "source": [
    "#prueba de Get numero\n",
    "\n",
    "import NumBOC\n",
    "\n",
    "res=NumBOC.get_ultimo_numero()\n",
    "if res>0:\n",
    "    print(res)\n",
    "elif res==-1:\n",
    "    print(\"Ningún numero obtenido\")\n",
    "elif res==-2:\n",
    "    print(\"Error de conexion con la base de datos\")\n",
    "    "
   ]
  }
 ],
 "metadata": {
  "kernelspec": {
   "display_name": "visionartificial",
   "language": "python",
   "name": "python3"
  },
  "language_info": {
   "codemirror_mode": {
    "name": "ipython",
    "version": 3
   },
   "file_extension": ".py",
   "mimetype": "text/x-python",
   "name": "python",
   "nbconvert_exporter": "python",
   "pygments_lexer": "ipython3",
   "version": "3.10.12"
  },
  "orig_nbformat": 4
 },
 "nbformat": 4,
 "nbformat_minor": 2
}
