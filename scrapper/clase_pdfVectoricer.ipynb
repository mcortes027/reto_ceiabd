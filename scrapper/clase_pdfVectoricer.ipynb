{
 "cells": [
  {
   "cell_type": "code",
   "execution_count": 38,
   "metadata": {},
   "outputs": [],
   "source": [
    "from PyPDF2 import PdfReader\n",
    "from tqdm import tqdm\n",
    "import re, os, time, glob # Para buscar archivos en un directorio, mejor que os.listdir\n",
    "\n",
    "class BOCPdftoTxt:\n",
    "    \"\"\"\n",
    "    Clase para vectorizar archivos PDF del Banco de Chile (BOC).\n",
    "\n",
    "    Args:\n",
    "        carpeta_pdf (str, optional): Ruta de la carpeta que contiene los archivos PDF. \n",
    "            Por defecto, se utiliza 'default_boc'.\n",
    "        carpeta_txt (str, optional): Ruta de la carpeta donde se guardarán los archivos de texto. \n",
    "            Por defecto, se utiliza 'default_boc_txt'.\n",
    "\n",
    "    Attributes:\n",
    "        _path_txt (str): Ruta de la carpeta donde se guardarán los archivos de texto.\n",
    "        _path_pdf (str): Ruta de la carpeta que contiene los archivos PDF.\n",
    "        _tiempo_total (float): Tiempo total de la conversión en segundos.\n",
    "    \"\"\"\n",
    "    \n",
    "    def __init__(self, carpeta_pdf='default_boc', carpeta_txt='default_boc_txt'):\n",
    "        self._path_txt = carpeta_txt\n",
    "        self._path_pdf = carpeta_pdf\n",
    "        self._tiempo_total = 0\n",
    "\n",
    "    def _convertir_pdf_a_texto(self, pdf_file):\n",
    "        \"\"\"\n",
    "        Convierte un archivo PDF a texto.\n",
    "\n",
    "        Args:\n",
    "            pdf_file (str): Ruta del archivo PDF.\n",
    "\n",
    "        Returns:\n",
    "            str: El texto extraído del archivo PDF.\n",
    "        \"\"\"\n",
    "        doc_pdf = open(pdf_file, 'rb') # Abrir el archivo en modo lectura binaria\n",
    "        pdf_reader = PdfReader(doc_pdf) # Crear un objeto PdfReader\n",
    "\n",
    "        doc_text = \"\"\n",
    "        for page in pdf_reader.pages:\n",
    "            doc_text += page.extract_text()\n",
    "            \n",
    "        # Unir palabras divididas por un guión al final de una línea\n",
    "        doc_text = re.sub('-\\n', '', doc_text)\n",
    "            \n",
    "        return doc_text\n",
    "\n",
    "    def _guardar_texto_en_txt(self, texto, pdf_file):\n",
    "        \"\"\"\n",
    "        Guarda el texto en un archivo de texto.\n",
    "\n",
    "        Args:\n",
    "            texto (str): El texto a guardar.\n",
    "            pdf_file (str): Ruta del archivo PDF.\n",
    "\n",
    "        \"\"\"\n",
    "        if not os.path.exists(self._path_txt):\n",
    "            os.makedirs(self._path_txt)\n",
    "            \n",
    "        base_name = os.path.basename(pdf_file) # Obtén el nombre base del archivo\n",
    "        txt_name = os.path.splitext(base_name)[0] + '.txt' # Cambia la extensión a .txt\n",
    "\n",
    "        with open(f'{self._path_txt}/{txt_name}', \"w\") as file:\n",
    "            file.write(texto)\n",
    "            \n",
    "    def run(self):\n",
    "        \"\"\"\n",
    "        Ejecuta la conversión de todos los archivos PDF a texto.\n",
    "        \"\"\"\n",
    "        self._tiempo_total = 0\n",
    "        \n",
    "        tiempo_inicio = time.time() # Iniciar el cronómetro\n",
    "        \n",
    "        pdf_files = glob.glob(self._path_pdf  + \"/*.pdf\") # Busca todos los archivos .pdf en la carpeta\n",
    "\n",
    "        for pdf_file in tqdm(pdf_files): # Itera sobre cada archivo .pdf\n",
    "            text = self._convertir_pdf_a_texto(pdf_file)\n",
    "            self._guardar_texto_en_txt(text, pdf_file)\n",
    "        \n",
    "        tiempo_final = time.time() # Detener el cronómetro\n",
    "\n",
    "        self._tiempo_total = (tiempo_final - tiempo_inicio) # Calcular el tiempo total\n",
    "    \n",
    "    def tiempo(self):\n",
    "        \"\"\"\n",
    "        Obtiene el tiempo total de la conversión.\n",
    "\n",
    "        Returns:\n",
    "            float: El tiempo total de la conversión en minutos.\n",
    "        \"\"\"\n",
    "        if self._tiempo_total == 0:\n",
    "            return \"No se ha convertido ningún documento.\", None\n",
    "        elif self._tiempo_total < 60: #segundos\n",
    "            return round(self._tiempo_total,2), 'seg'\n",
    "        elif self._tiempo_total < 3600: #minutos\n",
    "            return round(self._tiempo_total/60,2), 'min'\n",
    "        elif self._tiempo_total < 86400: #horas\n",
    "            return round(self._tiempo_total/3600,2), 'horas'\n",
    "        elif self._tiempo_total < 2592000: #días\n",
    "            return round(self._tiempo_total/86400,2), 'días'\n",
    "\n",
    "        "
   ]
  },
  {
   "cell_type": "code",
   "execution_count": 39,
   "metadata": {},
   "outputs": [
    {
     "name": "stderr",
     "output_type": "stream",
     "text": [
      "100%|██████████| 999/999 [00:18<00:00, 52.63it/s]\n"
     ]
    },
    {
     "data": {
      "text/plain": [
       "(18.99, 'seg')"
      ]
     },
     "execution_count": 39,
     "metadata": {},
     "output_type": "execute_result"
    }
   ],
   "source": [
    "prueba = BOCPdftoTxt(carpeta_pdf='../boc', carpeta_txt='../boc_txt')\n",
    "prueba.run()\n",
    "prueba.tiempo()"
   ]
  }
 ],
 "metadata": {
  "kernelspec": {
   "display_name": "venv",
   "language": "python",
   "name": "python3"
  },
  "language_info": {
   "codemirror_mode": {
    "name": "ipython",
    "version": 3
   },
   "file_extension": ".py",
   "mimetype": "text/x-python",
   "name": "python",
   "nbconvert_exporter": "python",
   "pygments_lexer": "ipython3",
   "version": "3.11.6"
  }
 },
 "nbformat": 4,
 "nbformat_minor": 2
}
