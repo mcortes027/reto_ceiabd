{
 "cells": [
  {
   "cell_type": "code",
   "execution_count": 58,
   "metadata": {},
   "outputs": [],
   "source": [
    "# Instalación del docker ollama\n",
    "# Con CPU\n",
    "# docker run -d -v ollama:/root/.ollama -p 11434:11434 --name ollama ollama/ollama\n",
    "# COn GPU NVIDIA\n",
    "# docker run -d --gpus=all -v ollama:/root/.ollama -p 11434:11434 --name ollama ollama/ollama\n",
    "\n",
    "# Descargar y ejecutar el modelo llama3\n",
    "# docker exec -it ollama ollama run llama3\n",
    "\n",
    "# Despues solo se ejecuta este comando y ya esta montado el ollama\n",
    "# docker start ollama"
   ]
  },
  {
   "cell_type": "markdown",
   "metadata": {},
   "source": [
    "| Model                | Parameters | Size  | Download Command         |\n",
    "|----------------------|------------|-------|--------------------------|\n",
    "| Llama 3              | 8B         | 4.7GB | ollama run llama3        |\n",
    "| Llama 3              | 70B        | 40GB  | ollama run llama3:70b    |\n",
    "| Phi-3                | 3.8B       | 2.3GB | ollama run phi3          |\n",
    "| Mistral              | 7B         | 4.1GB | ollama run mistral       |\n",
    "| Neural Chat          | 7B         | 4.1GB | ollama run neural-chat   |\n",
    "| Starling             | 7B         | 4.1GB | ollama run starling-lm   |\n",
    "| Code Llama           | 7B         | 3.8GB | ollama run codellama     |\n",
    "| Llama 2 Uncensored   | 7B         | 3.8GB | ollama run llama2-uncensored |\n",
    "| LLaVA                | 7B         | 4.5GB | ollama run llava         |\n",
    "| Gemma                | 2B         | 1.4GB | ollama run gemma:2b      |\n",
    "| Gemma                | 7B         | 4.8GB | ollama run gemma:7b      |\n",
    "| Solar                | 10.7B      | 6.1GB | ollama run solar         |"
   ]
  },
  {
   "cell_type": "code",
   "execution_count": 59,
   "metadata": {},
   "outputs": [],
   "source": [
    "#Instalación de las librerias necesarias de Ollama\n",
    "#!pip install ollama\n",
    "#Intalacion de las libreria de LangChain\n",
    "#!pip install langchain\n"
   ]
  },
  {
   "cell_type": "code",
   "execution_count": 60,
   "metadata": {},
   "outputs": [],
   "source": [
    "import ollama\n",
    "\n",
    "from langchain_community.llms import Ollama\n",
    "\n",
    "llm = Ollama(model=\"llama3\", temperature=0)"
   ]
  },
  {
   "cell_type": "code",
   "execution_count": 61,
   "metadata": {},
   "outputs": [],
   "source": [
    "respuesta = llm.invoke(\"Codigo de python que calcule el factorial de un numero\")"
   ]
  },
  {
   "cell_type": "code",
   "execution_count": 62,
   "metadata": {},
   "outputs": [
    {
     "name": "stdout",
     "output_type": "stream",
     "text": [
      "Aquí te dejo un ejemplo de código en Python que calcula el factorial de un número:\n",
      "```\n",
      "def factorial(n):\n",
      "    if n == 0 or n == 1:\n",
      "        return 1\n",
      "    else:\n",
      "        return n * factorial(n-1)\n",
      "\n",
      "num = int(input(\"Introduce un número: \"))\n",
      "print(f\"El factorial de {num} es {factorial(num)}\")\n",
      "```\n",
      "Este código define una función `factorial` que toma un parámetro `n` y devuelve el factorial de ese número. La función se define de manera recursiva, lo que significa que llama a sí misma con un valor menor hasta que llega al caso base (en este caso, cuando `n` es 0 o 1).\n",
      "\n",
      "La función se utiliza para calcular el factorial de un número introducido por el usuario.\n",
      "\n",
      "Puedes ejecutar este código en una ventana de comandos o en un entorno de desarrollo integrado como PyCharm y obtener el resultado del factorial de un número que introduces.\n",
      "\n",
      "Por ejemplo, si introduces el número 5, el programa imprimirá:\n",
      "```\n",
      "El factorial de 5 es 120\n",
      "```\n",
      "Espero que esto te ayude. ¡Si tienes alguna pregunta o necesitas ayuda adicional, no dudes en preguntar!\n"
     ]
    }
   ],
   "source": [
    "print(respuesta)"
   ]
  },
  {
   "cell_type": "code",
   "execution_count": 63,
   "metadata": {},
   "outputs": [],
   "source": [
    "#Intalamos la libreria de cargar PDF\n",
    "#!pip install pypdf"
   ]
  },
  {
   "cell_type": "code",
   "execution_count": 64,
   "metadata": {},
   "outputs": [],
   "source": [
    "from langchain.text_splitter import CharacterTextSplitter\n",
    "from langchain.document_loaders import PyPDFLoader\n",
    "from langchain_community.vectorstores import Chroma\n",
    "from langchain_community.embeddings import OllamaEmbeddings\n",
    "from langchain_core.output_parsers import StrOutputParser\n",
    "import ollama"
   ]
  },
  {
   "cell_type": "code",
   "execution_count": 65,
   "metadata": {},
   "outputs": [],
   "source": [
    "loader = PyPDFLoader('estatuto.pdf')\n",
    "paginas = loader.load()"
   ]
  },
  {
   "cell_type": "code",
   "execution_count": 66,
   "metadata": {},
   "outputs": [
    {
     "data": {
      "text/plain": [
       "25"
      ]
     },
     "execution_count": 66,
     "metadata": {},
     "output_type": "execute_result"
    }
   ],
   "source": [
    "len(paginas)"
   ]
  },
  {
   "cell_type": "code",
   "execution_count": 67,
   "metadata": {},
   "outputs": [
    {
     "name": "stdout",
     "output_type": "stream",
     "text": [
      "TEXTO CONSOLIDADO\n",
      "Última modificación: 24 de marzo de 2021\n",
      "DON JUAN CARLOS I,\n",
      "REY DE ESPAÑA\n",
      "A todos los que la presente vieren y entendieren,\n",
      "Sabed: Que las Cortes Generales han aprobado y Yo vengo en sancionar la siguiente \n",
      "Ley Orgánica:\n",
      "PREÁMBULO\n",
      "Cantabria, como comunidad histórica perfectamente definida dentro de España y \n",
      "haciendo uso del derecho a la autonomía que la Constitución reconoce en su Título VIII y en \n",
      "base a las decisiones de la Diputación Provincial y de sus Ayuntamientos libre y \n",
      "democráticamente expresadas, manifiesta su voluntad de constituirse en Comunidad \n",
      "Autónoma de acuerdo con lo dispuesto en el artículo 143 de la Constitución.\n",
      "El presente Estatuto es la expresión jurídica de la identidad de Cantabria y define sus \n",
      "instituciones, competencias y recursos, dentro de la indisoluble unidad de España y en el \n",
      "marco de la más estrecha solidaridad con las demás nacionalidades y regiones.\n",
      "Cantabria encuentra en sus instituciones la voluntad de respetar los derechos \n",
      "fundamentales y libertades públicas, a la vez que se afianza e impulsa el desarrollo regional \n",
      "sobre la base de unas relaciones democráticas.\n",
      "Para hacer realidad el derecho de Cantabria al autogobierno, la Asamblea Mixta de \n",
      "Cantabria, prevista en el artículo 146 de la Constitución, propone y las Cortes Generales \n",
      "aprueban, el presente Estatuto.\n",
      "TÍTULO PRELIMINAR\n",
      "Artículo 1.  \n",
      "1. Cantabria, como comunidad histórica, para ejercer su derecho al autogobierno \n",
      "reconocido constitucionalmente, se constituye en Comunidad Autónoma de acuerdo con la \n",
      "Constitución y el presente Estatuto, que es su norma institucional básica.\n",
      "2. Los poderes de la Comunidad Autónoma emanan de la Constitución, del presente \n",
      "Estatuto y del pueblo.\n",
      "3. La denominación de la Comunidad Autónoma será la de Cantabria.\n",
      "Artículo 2.  \n",
      "1. El territorio de la Comunidad Autónoma es el de los municipios comprendidos dentro \n",
      "de los límites administrativos de la anteriormente denominada provincia de Santander.\n",
      "2. La capital de la Comunidad Autónoma es la ciudad de Santander, donde tendrán la \n",
      "sede sus instituciones de autogobierno.\n",
      "3. Cantabria estructura su organización territorial en municipios.\n",
      "Una ley del Parlamento podrá reconocer la comarca como entidad local con personalidad \n",
      "jurídica y demarcación propia. La comarca no supondrá, necesariamente, la supresión de los \n",
      "municipios que la integran.\n",
      "Artículo 3.  \n",
      "La bandera propia de Cantabria es la formada por dos franjas horizontales de igual \n",
      "anchura, blanca la superior y roja la inferior.\n",
      "Cantabria podrá establecer su escudo e himno por ley del Parlamento.\n",
      "El escudo de Cantabria, una vez aprobado por el Parlamento, podrá incorporarse a la \n",
      "bandera.BOLETÍN OFICIAL DEL ESTADO\n",
      "LEGISLACIÓN CONSOLIDADA\n",
      "Página 5\n"
     ]
    }
   ],
   "source": [
    "print(paginas[4].page_content)"
   ]
  },
  {
   "cell_type": "code",
   "execution_count": 68,
   "metadata": {},
   "outputs": [],
   "source": [
    "text_splitter = CharacterTextSplitter(\n",
    "    separator='\\n',\n",
    "    chunk_size=1024,\n",
    "    chunk_overlap=128,\n",
    "    length_function=len\n",
    ")\n"
   ]
  },
  {
   "cell_type": "code",
   "execution_count": 69,
   "metadata": {},
   "outputs": [],
   "source": [
    "docs = text_splitter.split_documents(paginas)"
   ]
  },
  {
   "cell_type": "code",
   "execution_count": 70,
   "metadata": {},
   "outputs": [
    {
     "data": {
      "text/plain": [
       "(91, 25)"
      ]
     },
     "execution_count": 70,
     "metadata": {},
     "output_type": "execute_result"
    }
   ],
   "source": [
    "len(docs), len(paginas)"
   ]
  },
  {
   "cell_type": "code",
   "execution_count": 71,
   "metadata": {},
   "outputs": [],
   "source": [
    "#Intalamos la libreria de chromadb\n",
    "# Se tiene que instalar https://visualstudio.microsoft.com/es/visual-cpp-build-tools/\n",
    "#!pip install chromadb"
   ]
  },
  {
   "cell_type": "code",
   "execution_count": 72,
   "metadata": {},
   "outputs": [],
   "source": [
    "embeddings = OllamaEmbeddings(model=\"llama3\")\n"
   ]
  },
  {
   "cell_type": "code",
   "execution_count": 73,
   "metadata": {},
   "outputs": [],
   "source": [
    "vectorstore = Chroma.from_documents(documents=docs, embedding=embeddings)"
   ]
  },
  {
   "cell_type": "code",
   "execution_count": 74,
   "metadata": {},
   "outputs": [],
   "source": [
    "def ollama_llm(question, context):\n",
    "    \"\"\"\n",
    "    Realiza una consulta a un modelo de lenguaje de aprendizaje automático (LLM) llamado Ollama.\n",
    "    \n",
    "    Parameters:\n",
    "        question (str): La pregunta que se desea realizar al modelo.\n",
    "        context (str): El contexto en el que se basa la pregunta.\n",
    "        \n",
    "    Returns:\n",
    "        str: La respuesta generada por el modelo de lenguaje.\n",
    "    \"\"\"\n",
    "    formatted_prompt = f\"Pregunta: {question}\\n\\nContexto (responde solo sobre el contenido del texto entregado): {context}\"\n",
    "    response = ollama.chat(model=\"llama3\", messages=[{'role': 'user', 'content': formatted_prompt}],\n",
    "                           options={'temperature': 0})\n",
    "    \n",
    "    return response['message']['content']\n",
    "\n",
    "    "
   ]
  },
  {
   "cell_type": "code",
   "execution_count": 75,
   "metadata": {},
   "outputs": [],
   "source": [
    "retriever = vectorstore.as_retriever()\n",
    "\n",
    "def combine_docs(docs):\n",
    "    return \"\\n\".join([doc.page_content for doc in docs])"
   ]
  },
  {
   "cell_type": "code",
   "execution_count": 76,
   "metadata": {},
   "outputs": [],
   "source": [
    "def rag_chains(question, docs):\n",
    "    retrieved_docs = retriever.invoke(question)\n",
    "    formatted_context = combine_docs(retrieved_docs)\n",
    "    return ollama_llm(question, formatted_context)\n"
   ]
  },
  {
   "cell_type": "code",
   "execution_count": 81,
   "metadata": {},
   "outputs": [
    {
     "data": {
      "text/plain": [
       "'El artículo 17 del texto consolidado no existe, ya que el texto entregado es un boletín oficial del Estado que contiene varias leyes y disposiciones, pero no hay un artículo 17 específico. Sin embargo, se puede resumir lo siguiente:\\n\\n* El artículo 3 describe las condiciones en las que el Presidente del Gobierno no puede acordar la disolución del Parlamento: durante el primer período de sesiones de la legislatura cuando reste menos de un año para su terminación, cuando se encuentre en tramitación una moción de censura, o antes de que transcurra un año desde la última disolución por este procedimiento.\\n* El artículo final (no numerado) describe el cambio de denominación de la provincia de Santander por provincia de Cantabria y establece que el Gobierno dictará las disposiciones oportunas para dar cumplimiento a las consecuencias derivadas de esta disposición en un plazo de un año.'"
      ]
     },
     "execution_count": 81,
     "metadata": {},
     "output_type": "execute_result"
    }
   ],
   "source": [
    "result = rag_chains(\"resumen del Artículo 17\", docs)\n",
    "result"
   ]
  },
  {
   "cell_type": "code",
   "execution_count": null,
   "metadata": {},
   "outputs": [],
   "source": []
  }
 ],
 "metadata": {
  "kernelspec": {
   "display_name": "venv",
   "language": "python",
   "name": "python3"
  },
  "language_info": {
   "codemirror_mode": {
    "name": "ipython",
    "version": 3
   },
   "file_extension": ".py",
   "mimetype": "text/x-python",
   "name": "python",
   "nbconvert_exporter": "python",
   "pygments_lexer": "ipython3",
   "version": "3.12.3"
  }
 },
 "nbformat": 4,
 "nbformat_minor": 2
}
